{
  "nbformat": 4,
  "nbformat_minor": 0,
  "metadata": {
    "accelerator": "GPU",
    "colab": {
      "name": "Course 3 - Week 3 - Lesson 2c.ipynb",
      "provenance": [],
      "collapsed_sections": [],
      "toc_visible": true
    },
    "kernelspec": {
      "display_name": "Python 3",
      "language": "python",
      "name": "python3"
    },
    "language_info": {
      "codemirror_mode": {
        "name": "ipython",
        "version": 3
      },
      "file_extension": ".py",
      "mimetype": "text/x-python",
      "name": "python",
      "nbconvert_exporter": "python",
      "pygments_lexer": "ipython3",
      "version": "3.7.6"
    }
  },
  "cells": [
    {
      "cell_type": "code",
      "metadata": {
        "id": "zX4Kg8DUTKWO"
      },
      "source": [
        "#@title Licensed under the Apache License, Version 2.0 (the \"License\");\n",
        "# you may not use this file except in compliance with the License.\n",
        "# You may obtain a copy of the License at\n",
        "#\n",
        "# https://www.apache.org/licenses/LICENSE-2.0\n",
        "#\n",
        "# Unless required by applicable law or agreed to in writing, software\n",
        "# distributed under the License is distributed on an \"AS IS\" BASIS,\n",
        "# WITHOUT WARRANTIES OR CONDITIONS OF ANY KIND, either express or implied.\n",
        "# See the License for the specific language governing permissions and\n",
        "# limitations under the License."
      ],
      "execution_count": null,
      "outputs": []
    },
    {
      "cell_type": "markdown",
      "metadata": {
        "id": "ereeY7Tz6S8w"
      },
      "source": [
        "<a href=\"https://colab.research.google.com/github/lmoroney/dlaicourse/blob/master/TensorFlow%20In%20Practice/Course%203%20-%20NLP/Course%203%20-%20Week%203%20-%20Lesson%202c.ipynb\" target=\"_parent\"><img src=\"https://colab.research.google.com/assets/colab-badge.svg\" alt=\"Open In Colab\"/></a>"
      ]
    },
    {
      "cell_type": "code",
      "metadata": {
        "colab": {
          "base_uri": "https://localhost:8080/"
        },
        "id": "jGwXGIXvFhXW",
        "outputId": "e4758d18-07d4-4ecc-cd9c-fcaf2ee25f6c"
      },
      "source": [
        "import numpy as np\n",
        "\n",
        "import json\n",
        "import tensorflow as tf\n",
        "\n",
        "from tensorflow.keras.preprocessing.text import Tokenizer\n",
        "from tensorflow.keras.preprocessing.sequence import pad_sequences\n",
        "\n",
        "!wget --no-check-certificate \\\n",
        "    https://storage.googleapis.com/laurencemoroney-blog.appspot.com/sarcasm.json \\\n",
        "    -O /tmp/sarcasm.json\n",
        "\n",
        "vocab_size = 1000\n",
        "embedding_dim = 16\n",
        "max_length = 120\n",
        "trunc_type='post'\n",
        "padding_type='post'\n",
        "oov_tok = \"<OOV>\"\n",
        "training_size = 20000\n",
        "\n",
        "\n",
        "with open(\"/tmp/sarcasm.json\", 'r') as f:\n",
        "    datastore = json.load(f)\n",
        "\n",
        "\n",
        "sentences = []\n",
        "labels = []\n",
        "urls = []\n",
        "for item in datastore:\n",
        "    sentences.append(item['headline'])\n",
        "    labels.append(item['is_sarcastic'])\n",
        "\n",
        "training_sentences = sentences[0:training_size]\n",
        "testing_sentences = sentences[training_size:]\n",
        "training_labels = labels[0:training_size]\n",
        "testing_labels = labels[training_size:]\n",
        "\n",
        "tokenizer = Tokenizer(num_words=vocab_size, oov_token=oov_tok)\n",
        "tokenizer.fit_on_texts(training_sentences)\n",
        "\n",
        "word_index = tokenizer.word_index\n",
        "\n",
        "training_sequences = tokenizer.texts_to_sequences(training_sentences)\n",
        "training_padded = pad_sequences(training_sequences, maxlen=max_length, padding=padding_type, truncating=trunc_type)\n",
        "\n",
        "testing_sequences = tokenizer.texts_to_sequences(testing_sentences)\n",
        "testing_padded = pad_sequences(testing_sequences, maxlen=max_length, padding=padding_type, truncating=trunc_type)\n",
        "\n",
        "model = tf.keras.Sequential([\n",
        "    tf.keras.layers.Embedding(vocab_size, embedding_dim, input_length=max_length),\n",
        "    tf.keras.layers.Conv1D(128, 5, activation='relu'),\n",
        "    tf.keras.layers.GlobalMaxPooling1D(),\n",
        "    tf.keras.layers.Dense(24, activation='relu'),\n",
        "    tf.keras.layers.Dense(1, activation='sigmoid')\n",
        "])\n",
        "model.compile(loss='binary_crossentropy',optimizer='adam',metrics=['accuracy'])\n",
        "model.summary()\n",
        "\n",
        "num_epochs = 50\n",
        "\n",
        "training_padded = np.array(training_padded)\n",
        "training_labels = np.array(training_labels)\n",
        "testing_padded = np.array(testing_padded)\n",
        "testing_labels = np.array(testing_labels)\n",
        "\n",
        "history = model.fit(training_padded, training_labels, epochs=num_epochs, validation_data=(testing_padded, testing_labels), verbose=1)\n"
      ],
      "execution_count": 1,
      "outputs": [
        {
          "output_type": "stream",
          "text": [
            "--2021-06-01 09:47:23--  https://storage.googleapis.com/laurencemoroney-blog.appspot.com/sarcasm.json\n",
            "Resolving storage.googleapis.com (storage.googleapis.com)... 74.125.204.128, 64.233.189.128, 108.177.97.128, ...\n",
            "Connecting to storage.googleapis.com (storage.googleapis.com)|74.125.204.128|:443... connected.\n",
            "HTTP request sent, awaiting response... 200 OK\n",
            "Length: 5643545 (5.4M) [application/json]\n",
            "Saving to: ‘/tmp/sarcasm.json’\n",
            "\n",
            "\r/tmp/sarcasm.json     0%[                    ]       0  --.-KB/s               \r/tmp/sarcasm.json   100%[===================>]   5.38M  --.-KB/s    in 0.05s   \n",
            "\n",
            "2021-06-01 09:47:23 (105 MB/s) - ‘/tmp/sarcasm.json’ saved [5643545/5643545]\n",
            "\n",
            "Model: \"sequential\"\n",
            "_________________________________________________________________\n",
            "Layer (type)                 Output Shape              Param #   \n",
            "=================================================================\n",
            "embedding (Embedding)        (None, 120, 16)           16000     \n",
            "_________________________________________________________________\n",
            "conv1d (Conv1D)              (None, 116, 128)          10368     \n",
            "_________________________________________________________________\n",
            "global_max_pooling1d (Global (None, 128)               0         \n",
            "_________________________________________________________________\n",
            "dense (Dense)                (None, 24)                3096      \n",
            "_________________________________________________________________\n",
            "dense_1 (Dense)              (None, 1)                 25        \n",
            "=================================================================\n",
            "Total params: 29,489\n",
            "Trainable params: 29,489\n",
            "Non-trainable params: 0\n",
            "_________________________________________________________________\n",
            "Epoch 1/50\n",
            "625/625 [==============================] - 32s 4ms/step - loss: 0.4739 - accuracy: 0.7596 - val_loss: 0.4098 - val_accuracy: 0.8164\n",
            "Epoch 2/50\n",
            "625/625 [==============================] - 3s 4ms/step - loss: 0.3591 - accuracy: 0.8369 - val_loss: 0.3937 - val_accuracy: 0.8137\n",
            "Epoch 3/50\n",
            "625/625 [==============================] - 2s 4ms/step - loss: 0.3235 - accuracy: 0.8558 - val_loss: 0.3901 - val_accuracy: 0.8211\n",
            "Epoch 4/50\n",
            "625/625 [==============================] - 2s 3ms/step - loss: 0.2932 - accuracy: 0.8716 - val_loss: 0.4079 - val_accuracy: 0.8195\n",
            "Epoch 5/50\n",
            "625/625 [==============================] - 3s 4ms/step - loss: 0.2598 - accuracy: 0.8899 - val_loss: 0.4196 - val_accuracy: 0.8126\n",
            "Epoch 6/50\n",
            "625/625 [==============================] - 2s 4ms/step - loss: 0.2277 - accuracy: 0.9076 - val_loss: 0.4552 - val_accuracy: 0.8165\n",
            "Epoch 7/50\n",
            "625/625 [==============================] - 2s 4ms/step - loss: 0.1958 - accuracy: 0.9215 - val_loss: 0.4820 - val_accuracy: 0.8129\n",
            "Epoch 8/50\n",
            "625/625 [==============================] - 3s 4ms/step - loss: 0.1669 - accuracy: 0.9347 - val_loss: 0.5586 - val_accuracy: 0.8070\n",
            "Epoch 9/50\n",
            "625/625 [==============================] - 2s 4ms/step - loss: 0.1403 - accuracy: 0.9480 - val_loss: 0.5970 - val_accuracy: 0.8046\n",
            "Epoch 10/50\n",
            "625/625 [==============================] - 3s 4ms/step - loss: 0.1163 - accuracy: 0.9589 - val_loss: 0.6696 - val_accuracy: 0.8001\n",
            "Epoch 11/50\n",
            "625/625 [==============================] - 2s 4ms/step - loss: 0.0993 - accuracy: 0.9660 - val_loss: 0.7226 - val_accuracy: 0.8001\n",
            "Epoch 12/50\n",
            "625/625 [==============================] - 2s 4ms/step - loss: 0.0823 - accuracy: 0.9713 - val_loss: 0.8255 - val_accuracy: 0.8041\n",
            "Epoch 13/50\n",
            "625/625 [==============================] - 2s 4ms/step - loss: 0.0701 - accuracy: 0.9768 - val_loss: 0.9515 - val_accuracy: 0.7961\n",
            "Epoch 14/50\n",
            "625/625 [==============================] - 2s 3ms/step - loss: 0.0597 - accuracy: 0.9797 - val_loss: 0.9813 - val_accuracy: 0.7897\n",
            "Epoch 15/50\n",
            "625/625 [==============================] - 2s 4ms/step - loss: 0.0529 - accuracy: 0.9824 - val_loss: 1.0557 - val_accuracy: 0.7898\n",
            "Epoch 16/50\n",
            "625/625 [==============================] - 3s 4ms/step - loss: 0.0493 - accuracy: 0.9827 - val_loss: 1.0809 - val_accuracy: 0.7839\n",
            "Epoch 17/50\n",
            "625/625 [==============================] - 3s 4ms/step - loss: 0.0446 - accuracy: 0.9846 - val_loss: 1.1820 - val_accuracy: 0.7833\n",
            "Epoch 18/50\n",
            "625/625 [==============================] - 3s 4ms/step - loss: 0.0428 - accuracy: 0.9845 - val_loss: 1.2958 - val_accuracy: 0.7906\n",
            "Epoch 19/50\n",
            "625/625 [==============================] - 2s 4ms/step - loss: 0.0386 - accuracy: 0.9857 - val_loss: 1.4715 - val_accuracy: 0.7858\n",
            "Epoch 20/50\n",
            "625/625 [==============================] - 3s 4ms/step - loss: 0.0373 - accuracy: 0.9855 - val_loss: 1.3096 - val_accuracy: 0.7849\n",
            "Epoch 21/50\n",
            "625/625 [==============================] - 3s 4ms/step - loss: 0.0327 - accuracy: 0.9876 - val_loss: 1.5062 - val_accuracy: 0.7860\n",
            "Epoch 22/50\n",
            "625/625 [==============================] - 2s 4ms/step - loss: 0.0322 - accuracy: 0.9880 - val_loss: 1.4754 - val_accuracy: 0.7860\n",
            "Epoch 23/50\n",
            "625/625 [==============================] - 2s 3ms/step - loss: 0.0305 - accuracy: 0.9884 - val_loss: 1.5656 - val_accuracy: 0.7828\n",
            "Epoch 24/50\n",
            "625/625 [==============================] - 2s 4ms/step - loss: 0.0282 - accuracy: 0.9891 - val_loss: 1.6195 - val_accuracy: 0.7927\n",
            "Epoch 25/50\n",
            "625/625 [==============================] - 2s 4ms/step - loss: 0.0289 - accuracy: 0.9887 - val_loss: 1.6721 - val_accuracy: 0.7800\n",
            "Epoch 26/50\n",
            "625/625 [==============================] - 2s 4ms/step - loss: 0.0330 - accuracy: 0.9868 - val_loss: 1.7743 - val_accuracy: 0.7831\n",
            "Epoch 27/50\n",
            "625/625 [==============================] - 2s 4ms/step - loss: 0.0284 - accuracy: 0.9883 - val_loss: 1.7927 - val_accuracy: 0.7874\n",
            "Epoch 28/50\n",
            "625/625 [==============================] - 3s 4ms/step - loss: 0.0254 - accuracy: 0.9894 - val_loss: 1.7801 - val_accuracy: 0.7886\n",
            "Epoch 29/50\n",
            "625/625 [==============================] - 2s 3ms/step - loss: 0.0259 - accuracy: 0.9894 - val_loss: 1.8874 - val_accuracy: 0.7874\n",
            "Epoch 30/50\n",
            "625/625 [==============================] - 3s 4ms/step - loss: 0.0251 - accuracy: 0.9897 - val_loss: 1.9036 - val_accuracy: 0.7837\n",
            "Epoch 31/50\n",
            "625/625 [==============================] - 2s 4ms/step - loss: 0.0251 - accuracy: 0.9894 - val_loss: 1.9471 - val_accuracy: 0.7816\n",
            "Epoch 32/50\n",
            "625/625 [==============================] - 2s 4ms/step - loss: 0.0246 - accuracy: 0.9900 - val_loss: 1.9416 - val_accuracy: 0.7825\n",
            "Epoch 33/50\n",
            "625/625 [==============================] - 2s 4ms/step - loss: 0.0282 - accuracy: 0.9882 - val_loss: 1.9734 - val_accuracy: 0.7851\n",
            "Epoch 34/50\n",
            "625/625 [==============================] - 2s 3ms/step - loss: 0.0246 - accuracy: 0.9898 - val_loss: 1.9904 - val_accuracy: 0.7846\n",
            "Epoch 35/50\n",
            "625/625 [==============================] - 2s 3ms/step - loss: 0.0228 - accuracy: 0.9904 - val_loss: 2.1963 - val_accuracy: 0.7869\n",
            "Epoch 36/50\n",
            "625/625 [==============================] - 3s 4ms/step - loss: 0.0207 - accuracy: 0.9912 - val_loss: 2.2125 - val_accuracy: 0.7819\n",
            "Epoch 37/50\n",
            "625/625 [==============================] - 3s 4ms/step - loss: 0.0190 - accuracy: 0.9917 - val_loss: 2.1898 - val_accuracy: 0.7882\n",
            "Epoch 38/50\n",
            "625/625 [==============================] - 2s 4ms/step - loss: 0.0206 - accuracy: 0.9909 - val_loss: 2.2577 - val_accuracy: 0.7857\n",
            "Epoch 39/50\n",
            "625/625 [==============================] - 2s 4ms/step - loss: 0.0244 - accuracy: 0.9897 - val_loss: 2.2706 - val_accuracy: 0.7827\n",
            "Epoch 40/50\n",
            "625/625 [==============================] - 2s 4ms/step - loss: 0.0261 - accuracy: 0.9888 - val_loss: 2.3029 - val_accuracy: 0.7874\n",
            "Epoch 41/50\n",
            "625/625 [==============================] - 3s 4ms/step - loss: 0.0210 - accuracy: 0.9910 - val_loss: 2.3163 - val_accuracy: 0.7822\n",
            "Epoch 42/50\n",
            "625/625 [==============================] - 2s 3ms/step - loss: 0.0245 - accuracy: 0.9901 - val_loss: 2.3341 - val_accuracy: 0.7801\n",
            "Epoch 43/50\n",
            "625/625 [==============================] - 2s 3ms/step - loss: 0.0203 - accuracy: 0.9905 - val_loss: 2.3583 - val_accuracy: 0.7867\n",
            "Epoch 44/50\n",
            "625/625 [==============================] - 2s 4ms/step - loss: 0.0163 - accuracy: 0.9926 - val_loss: 2.4352 - val_accuracy: 0.7830\n",
            "Epoch 45/50\n",
            "625/625 [==============================] - 2s 4ms/step - loss: 0.0168 - accuracy: 0.9926 - val_loss: 2.3717 - val_accuracy: 0.7812\n",
            "Epoch 46/50\n",
            "625/625 [==============================] - 2s 4ms/step - loss: 0.0193 - accuracy: 0.9911 - val_loss: 2.5531 - val_accuracy: 0.7879\n",
            "Epoch 47/50\n",
            "625/625 [==============================] - 3s 4ms/step - loss: 0.0281 - accuracy: 0.9888 - val_loss: 2.6477 - val_accuracy: 0.7860\n",
            "Epoch 48/50\n",
            "625/625 [==============================] - 3s 4ms/step - loss: 0.0220 - accuracy: 0.9905 - val_loss: 2.6251 - val_accuracy: 0.7879\n",
            "Epoch 49/50\n",
            "625/625 [==============================] - 2s 4ms/step - loss: 0.0229 - accuracy: 0.9903 - val_loss: 2.7361 - val_accuracy: 0.7855\n",
            "Epoch 50/50\n",
            "625/625 [==============================] - 2s 4ms/step - loss: 0.0171 - accuracy: 0.9919 - val_loss: 2.5997 - val_accuracy: 0.7816\n"
          ],
          "name": "stdout"
        }
      ]
    },
    {
      "cell_type": "code",
      "metadata": {
        "colab": {
          "base_uri": "https://localhost:8080/",
          "height": 542
        },
        "id": "g9DC6dmLF8DC",
        "outputId": "a9cb298a-fcd1-4667-fa71-a0f2241331b1"
      },
      "source": [
        "import matplotlib.pyplot as plt\n",
        "\n",
        "\n",
        "def plot_graphs(history, string):\n",
        "  plt.plot(history.history[string])\n",
        "  plt.plot(history.history['val_'+string])\n",
        "  plt.xlabel(\"Epochs\")\n",
        "  plt.ylabel(string)\n",
        "  plt.legend([string, 'val_'+string])\n",
        "  plt.show()\n",
        "\n",
        "plot_graphs(history, 'accuracy')\n",
        "plot_graphs(history, 'loss')"
      ],
      "execution_count": 2,
      "outputs": [
        {
          "output_type": "display_data",
          "data": {
            "image/png": "[encoded data removed]",
            "text/plain": [
              "<Figure size 432x288 with 1 Axes>"
            ]
          },
          "metadata": {
            "tags": [],
            "needs_background": "light"
          }
        },
        {
          "output_type": "display_data",
          "data": {
            "image/png": "[encoded data removed]",
            "text/plain": [
              "<Figure size 432x288 with 1 Axes>"
            ]
          },
          "metadata": {
            "tags": [],
            "needs_background": "light"
          }
        }
      ]
    },
    {
      "cell_type": "code",
      "metadata": {
        "id": "7ZEZIUppGhdi"
      },
      "source": [
        "model.save(\"test.h5\")"
      ],
      "execution_count": 3,
      "outputs": []
    },
    {
      "cell_type": "code",
      "metadata": {
        "id": "ogZ7elYv_Dnq"
      },
      "source": [
        ""
      ],
      "execution_count": null,
      "outputs": []
    }
  ]
}